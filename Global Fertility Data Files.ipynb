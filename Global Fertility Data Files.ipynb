{
 "cells": [
  {
   "cell_type": "markdown",
   "metadata": {},
   "source": [
    "This is a small example of how to wrangle data."
   ]
  },
  {
   "cell_type": "code",
   "execution_count": 15,
   "metadata": {
    "collapsed": false
   },
   "outputs": [],
   "source": [
    "import pandas as pd\n",
    "import matplotlib as plt\n",
    "\n",
    "%matplotlib inline"
   ]
  },
  {
   "cell_type": "markdown",
   "metadata": {},
   "source": [
    "Continents-Countries List"
   ]
  },
  {
   "cell_type": "code",
   "execution_count": 16,
   "metadata": {
    "collapsed": false
   },
   "outputs": [
    {
     "data": {
      "text/html": [
       "<div>\n",
       "<table border=\"1\" class=\"dataframe\">\n",
       "  <thead>\n",
       "    <tr style=\"text-align: right;\">\n",
       "      <th></th>\n",
       "      <th>Country</th>\n",
       "      <th>Continent</th>\n",
       "    </tr>\n",
       "  </thead>\n",
       "  <tbody>\n",
       "    <tr>\n",
       "      <th>54</th>\n",
       "      <td>AFGHANISTAN</td>\n",
       "      <td>ASIA</td>\n",
       "    </tr>\n",
       "    <tr>\n",
       "      <th>98</th>\n",
       "      <td>ALBANIA</td>\n",
       "      <td>EUROPE</td>\n",
       "    </tr>\n",
       "    <tr>\n",
       "      <th>0</th>\n",
       "      <td>ALGERIA</td>\n",
       "      <td>AFRICA</td>\n",
       "    </tr>\n",
       "    <tr>\n",
       "      <th>99</th>\n",
       "      <td>ANDORRA</td>\n",
       "      <td>EUROPE</td>\n",
       "    </tr>\n",
       "    <tr>\n",
       "      <th>1</th>\n",
       "      <td>ANGOLA</td>\n",
       "      <td>AFRICA</td>\n",
       "    </tr>\n",
       "  </tbody>\n",
       "</table>\n",
       "</div>"
      ],
      "text/plain": [
       "        Country Continent\n",
       "54  AFGHANISTAN      ASIA\n",
       "98      ALBANIA    EUROPE\n",
       "0       ALGERIA    AFRICA\n",
       "99      ANDORRA    EUROPE\n",
       "1        ANGOLA    AFRICA"
      ]
     },
     "execution_count": 16,
     "metadata": {},
     "output_type": "execute_result"
    }
   ],
   "source": [
    "Continent_Country_File = pd.read_csv('Countries-Continents-csv.csv')\n",
    "Continent_Country_File = Continent_Country_File[['Country','Continent']]\n",
    "Continent_Country_File = Continent_Country_File.apply(lambda x: x.astype(str).str.upper())\n",
    "Continent_Country_File = Continent_Country_File.sort_values(by =['Country'])\n",
    "Continent_Country_File['Country'].replace(['KOREA, NORTH', 'KOREA, SOUTH' ], ['KOREA, DEM. PEOPLE’S REP.', 'KOREA, REP.'], inplace=True)\n",
    "Continent_Country_File.to_csv(\"FR2.csv\")\n",
    "Continent_Country_File.head()"
   ]
  },
  {
   "cell_type": "markdown",
   "metadata": {},
   "source": [
    "Fertility Rate Data from 1960 - 2015"
   ]
  },
  {
   "cell_type": "code",
   "execution_count": 17,
   "metadata": {
    "collapsed": false,
    "scrolled": true
   },
   "outputs": [
    {
     "data": {
      "text/html": [
       "<div>\n",
       "<table border=\"1\" class=\"dataframe\">\n",
       "  <thead>\n",
       "    <tr style=\"text-align: right;\">\n",
       "      <th></th>\n",
       "      <th>Country</th>\n",
       "      <th>2008</th>\n",
       "      <th>2010</th>\n",
       "      <th>2012</th>\n",
       "      <th>2014</th>\n",
       "    </tr>\n",
       "  </thead>\n",
       "  <tbody>\n",
       "    <tr>\n",
       "      <th>0</th>\n",
       "      <td>ARUBA</td>\n",
       "      <td>1.728</td>\n",
       "      <td>1.704</td>\n",
       "      <td>1.680</td>\n",
       "      <td>1.657</td>\n",
       "    </tr>\n",
       "    <tr>\n",
       "      <th>1</th>\n",
       "      <td>AFGHANISTAN</td>\n",
       "      <td>6.218</td>\n",
       "      <td>5.746</td>\n",
       "      <td>5.272</td>\n",
       "      <td>4.843</td>\n",
       "    </tr>\n",
       "    <tr>\n",
       "      <th>2</th>\n",
       "      <td>ANGOLA</td>\n",
       "      <td>6.559</td>\n",
       "      <td>6.416</td>\n",
       "      <td>6.251</td>\n",
       "      <td>6.080</td>\n",
       "    </tr>\n",
       "    <tr>\n",
       "      <th>3</th>\n",
       "      <td>ALBANIA</td>\n",
       "      <td>1.625</td>\n",
       "      <td>1.663</td>\n",
       "      <td>1.735</td>\n",
       "      <td>1.784</td>\n",
       "    </tr>\n",
       "    <tr>\n",
       "      <th>4</th>\n",
       "      <td>ANDORRA</td>\n",
       "      <td>1.250</td>\n",
       "      <td>1.270</td>\n",
       "      <td>0.000</td>\n",
       "      <td>0.000</td>\n",
       "    </tr>\n",
       "  </tbody>\n",
       "</table>\n",
       "</div>"
      ],
      "text/plain": [
       "       Country   2008   2010   2012   2014\n",
       "0        ARUBA  1.728  1.704  1.680  1.657\n",
       "1  AFGHANISTAN  6.218  5.746  5.272  4.843\n",
       "2       ANGOLA  6.559  6.416  6.251  6.080\n",
       "3      ALBANIA  1.625  1.663  1.735  1.784\n",
       "4      ANDORRA  1.250  1.270  0.000  0.000"
      ]
     },
     "execution_count": 17,
     "metadata": {},
     "output_type": "execute_result"
    }
   ],
   "source": [
    "Fert_Rate_File1 = pd.ExcelFile('API_SP.DYN.TFRT.IN_DS2_en_excel_v2.xls')\n",
    "Fert_Rate_File1 = Fert_Rate_File1.parse(\"Data\")\n",
    "Fert_Rate_File1.columns = ['Country', 'Country Code', 'Indicator Name', 'Indicator Code', '1960', '1961', '1962', '1963', \n",
    "                          '1964', '1965','1966','1967', '1968', '1969', '1970', '1971', '1972', '1973', '1974', '1975', '1976',\n",
    "                          '1977', '1978', '1979', '1980', '1981', '1982', '1983', '1984', '1985', '1986', '1987', '1988', '1989',\n",
    "                          '1990', '1991', '1992', '1993', '1994', '1995', '1996', '1997', '1998', '1999', '2000', '2001', '2002',\n",
    "                          '2003', '2004', '2005', '2006', '2007', '2008', '2009', '2010', '2011', '2012', '2013', '2014', '2015',\n",
    "                          '2016']\n",
    "Fert_Rate_File1 = Fert_Rate_File1[['Country', '2008', '2010', '2012', '2014']]\n",
    "Fert_Rate_File1 = Fert_Rate_File1.fillna(0)\n",
    "Fert_Rate_File1 = Fert_Rate_File1.apply(lambda x: x.astype(str).str.upper())\n",
    "Fert_Rate_File1[['2008', '2010', '2012', '2014']] = Fert_Rate_File1[['2008', '2010', '2012', '2014']].apply(pd.to_numeric, errors='ignore')\n",
    "Fert_Rate_File1.head()"
   ]
  },
  {
   "cell_type": "markdown",
   "metadata": {
    "collapsed": true
   },
   "source": [
    "Fertility Rate Data for 2016"
   ]
  },
  {
   "cell_type": "code",
   "execution_count": 18,
   "metadata": {
    "collapsed": false
   },
   "outputs": [
    {
     "data": {
      "text/html": [
       "<div>\n",
       "<table border=\"1\" class=\"dataframe\">\n",
       "  <thead>\n",
       "    <tr style=\"text-align: right;\">\n",
       "      <th></th>\n",
       "      <th>Country</th>\n",
       "      <th>2016</th>\n",
       "      <th>Rank</th>\n",
       "    </tr>\n",
       "  </thead>\n",
       "  <tbody>\n",
       "    <tr>\n",
       "      <th>0</th>\n",
       "      <td>NIGER</td>\n",
       "      <td>6.62</td>\n",
       "      <td>1</td>\n",
       "    </tr>\n",
       "    <tr>\n",
       "      <th>1</th>\n",
       "      <td>BURUNDI</td>\n",
       "      <td>6.04</td>\n",
       "      <td>2</td>\n",
       "    </tr>\n",
       "    <tr>\n",
       "      <th>2</th>\n",
       "      <td>MALI</td>\n",
       "      <td>5.95</td>\n",
       "      <td>3</td>\n",
       "    </tr>\n",
       "    <tr>\n",
       "      <th>3</th>\n",
       "      <td>SOMALIA</td>\n",
       "      <td>5.89</td>\n",
       "      <td>4</td>\n",
       "    </tr>\n",
       "    <tr>\n",
       "      <th>4</th>\n",
       "      <td>UGANDA</td>\n",
       "      <td>5.80</td>\n",
       "      <td>5</td>\n",
       "    </tr>\n",
       "  </tbody>\n",
       "</table>\n",
       "</div>"
      ],
      "text/plain": [
       "   Country  2016 Rank\n",
       "0    NIGER  6.62    1\n",
       "1  BURUNDI  6.04    2\n",
       "2     MALI  5.95    3\n",
       "3  SOMALIA  5.89    4\n",
       "4   UGANDA  5.80    5"
      ]
     },
     "execution_count": 18,
     "metadata": {},
     "output_type": "execute_result"
    }
   ],
   "source": [
    "Fert_Rate_File2 = pd.read_csv('Global Fertility Rate.csv')\n",
    "Fert_Rate_File2.columns = ['Rank','Country','2016', 'DoI']\n",
    "Fert_Rate_File2 = Fert_Rate_File2[['Country','2016', 'Rank']]\n",
    "Fert_Rate_File2 = Fert_Rate_File2.fillna(0)\n",
    "Fert_Rate_File2 = Fert_Rate_File2.apply(lambda x: x.astype(str).str.upper())\n",
    "Fert_Rate_File2[['2016']] = Fert_Rate_File2[['2016']].apply(pd.to_numeric, errors='ignore')\n",
    "Fert_Rate_File2.head()"
   ]
  },
  {
   "cell_type": "markdown",
   "metadata": {
    "collapsed": true
   },
   "source": [
    "Final Fertility Rate Data from 2008-2016"
   ]
  },
  {
   "cell_type": "code",
   "execution_count": 19,
   "metadata": {
    "collapsed": false
   },
   "outputs": [],
   "source": [
    "Fert_Rate_File2['Country'].replace(['RUSSIA', 'KOREA, NORTH', 'KOREA, SOUTH' ], ['RUSSIAN FEDERATION', 'KOREA, DEM. PEOPLE’S REP.', 'KOREA, REP.'], inplace=True)"
   ]
  },
  {
   "cell_type": "code",
   "execution_count": 20,
   "metadata": {
    "collapsed": false
   },
   "outputs": [
    {
     "data": {
      "text/html": [
       "<div>\n",
       "<table border=\"1\" class=\"dataframe\">\n",
       "  <thead>\n",
       "    <tr style=\"text-align: right;\">\n",
       "      <th></th>\n",
       "      <th>Country</th>\n",
       "      <th>2008</th>\n",
       "      <th>2010</th>\n",
       "      <th>2012</th>\n",
       "      <th>2014</th>\n",
       "      <th>2016</th>\n",
       "      <th>Rank</th>\n",
       "    </tr>\n",
       "  </thead>\n",
       "  <tbody>\n",
       "    <tr>\n",
       "      <th>0</th>\n",
       "      <td>ARUBA</td>\n",
       "      <td>1.728</td>\n",
       "      <td>1.704</td>\n",
       "      <td>1.680</td>\n",
       "      <td>1.657</td>\n",
       "      <td>1.84</td>\n",
       "      <td>146</td>\n",
       "    </tr>\n",
       "    <tr>\n",
       "      <th>1</th>\n",
       "      <td>AFGHANISTAN</td>\n",
       "      <td>6.218</td>\n",
       "      <td>5.746</td>\n",
       "      <td>5.272</td>\n",
       "      <td>4.843</td>\n",
       "      <td>5.22</td>\n",
       "      <td>10</td>\n",
       "    </tr>\n",
       "    <tr>\n",
       "      <th>2</th>\n",
       "      <td>ANGOLA</td>\n",
       "      <td>6.559</td>\n",
       "      <td>6.416</td>\n",
       "      <td>6.251</td>\n",
       "      <td>6.080</td>\n",
       "      <td>5.31</td>\n",
       "      <td>9</td>\n",
       "    </tr>\n",
       "    <tr>\n",
       "      <th>3</th>\n",
       "      <td>ALBANIA</td>\n",
       "      <td>1.625</td>\n",
       "      <td>1.663</td>\n",
       "      <td>1.735</td>\n",
       "      <td>1.784</td>\n",
       "      <td>1.51</td>\n",
       "      <td>197</td>\n",
       "    </tr>\n",
       "    <tr>\n",
       "      <th>4</th>\n",
       "      <td>ANDORRA</td>\n",
       "      <td>1.250</td>\n",
       "      <td>1.270</td>\n",
       "      <td>0.000</td>\n",
       "      <td>0.000</td>\n",
       "      <td>1.39</td>\n",
       "      <td>212</td>\n",
       "    </tr>\n",
       "  </tbody>\n",
       "</table>\n",
       "</div>"
      ],
      "text/plain": [
       "       Country   2008   2010   2012   2014  2016 Rank\n",
       "0        ARUBA  1.728  1.704  1.680  1.657  1.84  146\n",
       "1  AFGHANISTAN  6.218  5.746  5.272  4.843  5.22   10\n",
       "2       ANGOLA  6.559  6.416  6.251  6.080  5.31    9\n",
       "3      ALBANIA  1.625  1.663  1.735  1.784  1.51  197\n",
       "4      ANDORRA  1.250  1.270  0.000  0.000  1.39  212"
      ]
     },
     "execution_count": 20,
     "metadata": {},
     "output_type": "execute_result"
    }
   ],
   "source": [
    "Fert_Rate_File = Fert_Rate_File1.merge (Fert_Rate_File2, on='Country', how='outer')\n",
    "Fert_Rate_File.head()"
   ]
  },
  {
   "cell_type": "code",
   "execution_count": 21,
   "metadata": {
    "collapsed": false
   },
   "outputs": [
    {
     "data": {
      "text/html": [
       "<div>\n",
       "<table border=\"1\" class=\"dataframe\">\n",
       "  <thead>\n",
       "    <tr style=\"text-align: right;\">\n",
       "      <th></th>\n",
       "      <th>Country</th>\n",
       "      <th>2008</th>\n",
       "      <th>2010</th>\n",
       "      <th>2012</th>\n",
       "      <th>2014</th>\n",
       "      <th>2016</th>\n",
       "      <th>Rank</th>\n",
       "      <th>Continent</th>\n",
       "    </tr>\n",
       "  </thead>\n",
       "  <tbody>\n",
       "    <tr>\n",
       "      <th>0</th>\n",
       "      <td>ARUBA</td>\n",
       "      <td>1.728</td>\n",
       "      <td>1.704</td>\n",
       "      <td>1.680</td>\n",
       "      <td>1.657</td>\n",
       "      <td>1.84</td>\n",
       "      <td>146</td>\n",
       "      <td>NaN</td>\n",
       "    </tr>\n",
       "    <tr>\n",
       "      <th>1</th>\n",
       "      <td>AFGHANISTAN</td>\n",
       "      <td>6.218</td>\n",
       "      <td>5.746</td>\n",
       "      <td>5.272</td>\n",
       "      <td>4.843</td>\n",
       "      <td>5.22</td>\n",
       "      <td>10</td>\n",
       "      <td>ASIA</td>\n",
       "    </tr>\n",
       "    <tr>\n",
       "      <th>2</th>\n",
       "      <td>ANGOLA</td>\n",
       "      <td>6.559</td>\n",
       "      <td>6.416</td>\n",
       "      <td>6.251</td>\n",
       "      <td>6.080</td>\n",
       "      <td>5.31</td>\n",
       "      <td>9</td>\n",
       "      <td>AFRICA</td>\n",
       "    </tr>\n",
       "    <tr>\n",
       "      <th>3</th>\n",
       "      <td>ALBANIA</td>\n",
       "      <td>1.625</td>\n",
       "      <td>1.663</td>\n",
       "      <td>1.735</td>\n",
       "      <td>1.784</td>\n",
       "      <td>1.51</td>\n",
       "      <td>197</td>\n",
       "      <td>EUROPE</td>\n",
       "    </tr>\n",
       "    <tr>\n",
       "      <th>4</th>\n",
       "      <td>ANDORRA</td>\n",
       "      <td>1.250</td>\n",
       "      <td>1.270</td>\n",
       "      <td>0.000</td>\n",
       "      <td>0.000</td>\n",
       "      <td>1.39</td>\n",
       "      <td>212</td>\n",
       "      <td>EUROPE</td>\n",
       "    </tr>\n",
       "  </tbody>\n",
       "</table>\n",
       "</div>"
      ],
      "text/plain": [
       "       Country   2008   2010   2012   2014  2016 Rank Continent\n",
       "0        ARUBA  1.728  1.704  1.680  1.657  1.84  146       NaN\n",
       "1  AFGHANISTAN  6.218  5.746  5.272  4.843  5.22   10      ASIA\n",
       "2       ANGOLA  6.559  6.416  6.251  6.080  5.31    9    AFRICA\n",
       "3      ALBANIA  1.625  1.663  1.735  1.784  1.51  197    EUROPE\n",
       "4      ANDORRA  1.250  1.270  0.000  0.000  1.39  212    EUROPE"
      ]
     },
     "execution_count": 21,
     "metadata": {},
     "output_type": "execute_result"
    }
   ],
   "source": [
    "Continents_Merged = Fert_Rate_File.merge (Continent_Country_File, on='Country', how='outer')\n",
    "Continents_Merged[['2008', '2010', '2012', '2014', '2016']] = Continents_Merged[['2008', '2010', '2012', '2014', '2016']].apply(pd.to_numeric, errors='ignore')\n",
    "Continents_Merged.to_csv(\"CC_GFR.csv\")\n",
    "Continents_Merged.head()\n"
   ]
  },
  {
   "cell_type": "markdown",
   "metadata": {
    "collapsed": true
   },
   "source": [
    "GDP data"
   ]
  },
  {
   "cell_type": "code",
   "execution_count": 22,
   "metadata": {
    "collapsed": false
   },
   "outputs": [
    {
     "data": {
      "text/html": [
       "<div>\n",
       "<table border=\"1\" class=\"dataframe\">\n",
       "  <thead>\n",
       "    <tr style=\"text-align: right;\">\n",
       "      <th></th>\n",
       "      <th>Country</th>\n",
       "      <th>2008</th>\n",
       "      <th>2010</th>\n",
       "      <th>2012</th>\n",
       "      <th>2014</th>\n",
       "    </tr>\n",
       "  </thead>\n",
       "  <tbody>\n",
       "    <tr>\n",
       "      <th>0</th>\n",
       "      <td>ARUBA</td>\n",
       "      <td>-6.881302</td>\n",
       "      <td>0.000000</td>\n",
       "      <td>0.000000</td>\n",
       "      <td>0.000000</td>\n",
       "    </tr>\n",
       "    <tr>\n",
       "      <th>1</th>\n",
       "      <td>AFGHANISTAN</td>\n",
       "      <td>3.611368</td>\n",
       "      <td>8.433290</td>\n",
       "      <td>14.434741</td>\n",
       "      <td>1.312531</td>\n",
       "    </tr>\n",
       "    <tr>\n",
       "      <th>2</th>\n",
       "      <td>ANGOLA</td>\n",
       "      <td>13.817146</td>\n",
       "      <td>3.407655</td>\n",
       "      <td>5.155441</td>\n",
       "      <td>4.804473</td>\n",
       "    </tr>\n",
       "    <tr>\n",
       "      <th>3</th>\n",
       "      <td>ALBANIA</td>\n",
       "      <td>7.530000</td>\n",
       "      <td>3.710000</td>\n",
       "      <td>1.420000</td>\n",
       "      <td>1.800000</td>\n",
       "    </tr>\n",
       "    <tr>\n",
       "      <th>4</th>\n",
       "      <td>ANDORRA</td>\n",
       "      <td>-8.594256</td>\n",
       "      <td>-5.347977</td>\n",
       "      <td>-1.760010</td>\n",
       "      <td>0.000000</td>\n",
       "    </tr>\n",
       "  </tbody>\n",
       "</table>\n",
       "</div>"
      ],
      "text/plain": [
       "       Country       2008      2010       2012      2014\n",
       "0        ARUBA  -6.881302  0.000000   0.000000  0.000000\n",
       "1  AFGHANISTAN   3.611368  8.433290  14.434741  1.312531\n",
       "2       ANGOLA  13.817146  3.407655   5.155441  4.804473\n",
       "3      ALBANIA   7.530000  3.710000   1.420000  1.800000\n",
       "4      ANDORRA  -8.594256 -5.347977  -1.760010  0.000000"
      ]
     },
     "execution_count": 22,
     "metadata": {},
     "output_type": "execute_result"
    }
   ],
   "source": [
    "GDP_File = pd.read_csv('API_NY.GDP.MKTP.KD.ZG_DS2_en_csv_v2.csv')\n",
    "GDP_File.columns = ['Country', 'Country Code', 'Indicator Name', 'Indicator Code', '1960', '1961', '1962', '1963', \n",
    "                          '1964', '1965','1966','1967', '1968', '1969', '1970', '1971', '1972', '1973', '1974', '1975', '1976',\n",
    "                          '1977', '1978', '1979', '1980', '1981', '1982', '1983', '1984', '1985', '1986', '1987', '1988', '1989',\n",
    "                          '1990', '1991', '1992', '1993', '1994', '1995', '1996', '1997', '1998', '1999', '2000', '2001', '2002',\n",
    "                          '2003', '2004', '2005', '2006', '2007', '2008', '2009', '2010', '2011', '2012', '2013', '2014', '2015',\n",
    "                          '2016']\n",
    "GDP_File = GDP_File[['Country', '2008', '2010', '2012', '2014']]\n",
    "GDP_File = GDP_File.fillna(0)\n",
    "GDP_File = GDP_File.apply(lambda x: x.astype(str).str.upper())\n",
    "GDP_File[['2008', '2010', '2012', '2014']] = GDP_File[['2008', '2010', '2012', '2014']].apply(pd.to_numeric, errors='ignore')\n",
    "GDP_File.to_csv(\"GDP_File.csv\")\n",
    "GDP_File.head()"
   ]
  },
  {
   "cell_type": "markdown",
   "metadata": {},
   "source": [
    "Urbanization Data"
   ]
  },
  {
   "cell_type": "code",
   "execution_count": 23,
   "metadata": {
    "collapsed": false
   },
   "outputs": [
    {
     "data": {
      "text/html": [
       "<div>\n",
       "<table border=\"1\" class=\"dataframe\">\n",
       "  <thead>\n",
       "    <tr style=\"text-align: right;\">\n",
       "      <th></th>\n",
       "      <th>Country</th>\n",
       "      <th>2008</th>\n",
       "      <th>2010</th>\n",
       "      <th>2012</th>\n",
       "      <th>2014</th>\n",
       "    </tr>\n",
       "  </thead>\n",
       "  <tbody>\n",
       "    <tr>\n",
       "      <th>0</th>\n",
       "      <td>ARUBA</td>\n",
       "      <td>43.783</td>\n",
       "      <td>43.059</td>\n",
       "      <td>42.364</td>\n",
       "      <td>41.779</td>\n",
       "    </tr>\n",
       "    <tr>\n",
       "      <th>1</th>\n",
       "      <td>AFGHANISTAN</td>\n",
       "      <td>23.946</td>\n",
       "      <td>24.689</td>\n",
       "      <td>25.468</td>\n",
       "      <td>26.282</td>\n",
       "    </tr>\n",
       "    <tr>\n",
       "      <th>2</th>\n",
       "      <td>ANGOLA</td>\n",
       "      <td>38.509</td>\n",
       "      <td>40.097</td>\n",
       "      <td>41.699</td>\n",
       "      <td>43.274</td>\n",
       "    </tr>\n",
       "    <tr>\n",
       "      <th>3</th>\n",
       "      <td>ALBANIA</td>\n",
       "      <td>49.991</td>\n",
       "      <td>52.163</td>\n",
       "      <td>54.330</td>\n",
       "      <td>56.409</td>\n",
       "    </tr>\n",
       "    <tr>\n",
       "      <th>4</th>\n",
       "      <td>ANDORRA</td>\n",
       "      <td>88.867</td>\n",
       "      <td>87.817</td>\n",
       "      <td>86.708</td>\n",
       "      <td>85.633</td>\n",
       "    </tr>\n",
       "  </tbody>\n",
       "</table>\n",
       "</div>"
      ],
      "text/plain": [
       "       Country    2008    2010    2012    2014\n",
       "0        ARUBA  43.783  43.059  42.364  41.779\n",
       "1  AFGHANISTAN  23.946  24.689  25.468  26.282\n",
       "2       ANGOLA  38.509  40.097  41.699  43.274\n",
       "3      ALBANIA  49.991  52.163  54.330  56.409\n",
       "4      ANDORRA  88.867  87.817  86.708  85.633"
      ]
     },
     "execution_count": 23,
     "metadata": {},
     "output_type": "execute_result"
    }
   ],
   "source": [
    "Urb_File = pd.read_csv('API_SP.URB.TOTL.IN.ZS_DS2_en_csv_v2.csv')\n",
    "Urb_File.columns = ['Country', 'Country Code', 'Indicator Name', 'Indicator Code', '1960', '1961', '1962', '1963', \n",
    "                          '1964', '1965','1966','1967', '1968', '1969', '1970', '1971', '1972', '1973', '1974', '1975', '1976',\n",
    "                          '1977', '1978', '1979', '1980', '1981', '1982', '1983', '1984', '1985', '1986', '1987', '1988', '1989',\n",
    "                          '1990', '1991', '1992', '1993', '1994', '1995', '1996', '1997', '1998', '1999', '2000', '2001', '2002',\n",
    "                          '2003', '2004', '2005', '2006', '2007', '2008', '2009', '2010', '2011', '2012', '2013', '2014', '2015',\n",
    "                          '2016']\n",
    "Urb_File = Urb_File[['Country', '2008', '2010', '2012', '2014']]\n",
    "Urb_File = Urb_File.fillna(0)\n",
    "Urb_File = Urb_File.apply(lambda x: x.astype(str).str.upper())\n",
    "Urb_File[['2008', '2010', '2012', '2014']] = Urb_File[['2008', '2010', '2012', '2014']].apply(pd.to_numeric, errors='ignore')\n",
    "Urb_File.to_csv(\"Urb_File.csv\")\n",
    "Urb_File.head()"
   ]
  },
  {
   "cell_type": "markdown",
   "metadata": {},
   "source": [
    "Female Literacy Data"
   ]
  },
  {
   "cell_type": "code",
   "execution_count": 24,
   "metadata": {
    "collapsed": false
   },
   "outputs": [],
   "source": [
    "Female_Literacy_File = pd.ExcelFile('LiteracyRatesFemales.xlsx')\n",
    "Female_Literacy_File = Female_Literacy_File.parse(\"Sheet1\")\n",
    "Female_Literacy_File.columns = ['Rank','Country','2016', 'DoI']\n",
    "Female_Literacy_File = Female_Literacy_File[['Country','2016']]\n",
    "Female_Literacy_File = Female_Literacy_File.fillna(0)\n",
    "Female_Literacy_File = Female_Literacy_File.apply(lambda x: x.astype(str).str.upper())\n",
    "Female_Literacy_File[['2016']] = Female_Literacy_File[['2016']].apply(pd.to_numeric, errors='ignore')\n",
    "Female_Literacy_File['Country'].replace(['RUSSIA', 'KOREA (NORTH)'], ['RUSSIAN FEDERATION', 'KOREA, DEM. PEOPLE’S REP.'], inplace=True)"
   ]
  },
  {
   "cell_type": "code",
   "execution_count": 25,
   "metadata": {
    "collapsed": false
   },
   "outputs": [],
   "source": [
    "Female_Literacy_File.loc[len(Female_Literacy_File)]=['JAPAN',99]\n",
    "Female_Literacy_File.loc[len(Female_Literacy_File)]=['AUSTRALIA',99]\n",
    "Female_Literacy_File.loc[len(Female_Literacy_File)]=['KOREA, REP.',0]\n",
    "Female_Literacy_File.loc[len(Female_Literacy_File)]=['UNITED STATES',99]\n",
    "Female_Literacy_File.loc[len(Female_Literacy_File)]=['UNITED KINGDOM',99]\n",
    "Female_Literacy_File.loc[len(Female_Literacy_File)]=['CANADA',99]\n",
    "Female_Literacy_File.loc[len(Female_Literacy_File)]=['BARBADOS',99.7]\n",
    "Female_Literacy_File.loc[len(Female_Literacy_File)]=['BELGIUM',99]\n",
    "Female_Literacy_File.loc[len(Female_Literacy_File)]=['DENMARK',99]\n",
    "Female_Literacy_File.loc[len(Female_Literacy_File)]=['FRANCE',99]\n",
    "Female_Literacy_File.loc[len(Female_Literacy_File)]=['GERMANY',99]\n",
    "Female_Literacy_File.loc[len(Female_Literacy_File)]=['IRELAND',99]\n",
    "Female_Literacy_File.loc[len(Female_Literacy_File)]=['MONACO',99]\n",
    "Female_Literacy_File.loc[len(Female_Literacy_File)]=['NETHERLANDS',99]\n",
    "Female_Literacy_File.loc[len(Female_Literacy_File)]=['NEW ZEALAND',99]\n",
    "Female_Literacy_File.loc[len(Female_Literacy_File)]=['NORWAY',99]\n",
    "Female_Literacy_File.loc[len(Female_Literacy_File)]=['SWEDEN',99]\n",
    "Female_Literacy_File.loc[len(Female_Literacy_File)]=['SWITZERLAND',99]\n",
    "Female_Literacy_File.loc[len(Female_Literacy_File)]=['MARSHALL ISLANDS',98]"
   ]
  },
  {
   "cell_type": "code",
   "execution_count": 26,
   "metadata": {
    "collapsed": false
   },
   "outputs": [
    {
     "data": {
      "text/html": [
       "<div>\n",
       "<table border=\"1\" class=\"dataframe\">\n",
       "  <thead>\n",
       "    <tr style=\"text-align: right;\">\n",
       "      <th></th>\n",
       "      <th>Country</th>\n",
       "      <th>2016</th>\n",
       "    </tr>\n",
       "  </thead>\n",
       "  <tbody>\n",
       "    <tr>\n",
       "      <th>0</th>\n",
       "      <td>KOREA, DEM. PEOPLE’S REP.</td>\n",
       "      <td>100.0</td>\n",
       "    </tr>\n",
       "    <tr>\n",
       "      <th>1</th>\n",
       "      <td>LATVIA</td>\n",
       "      <td>99.9</td>\n",
       "    </tr>\n",
       "    <tr>\n",
       "      <th>2</th>\n",
       "      <td>AZERBAIJAN</td>\n",
       "      <td>99.8</td>\n",
       "    </tr>\n",
       "    <tr>\n",
       "      <th>3</th>\n",
       "      <td>CUBA</td>\n",
       "      <td>99.8</td>\n",
       "    </tr>\n",
       "    <tr>\n",
       "      <th>4</th>\n",
       "      <td>ESTONIA</td>\n",
       "      <td>99.8</td>\n",
       "    </tr>\n",
       "  </tbody>\n",
       "</table>\n",
       "</div>"
      ],
      "text/plain": [
       "                     Country   2016\n",
       "0  KOREA, DEM. PEOPLE’S REP.  100.0\n",
       "1                     LATVIA   99.9\n",
       "2                 AZERBAIJAN   99.8\n",
       "3                       CUBA   99.8\n",
       "4                    ESTONIA   99.8"
      ]
     },
     "execution_count": 26,
     "metadata": {},
     "output_type": "execute_result"
    }
   ],
   "source": [
    "Female_Literacy_File.to_csv(\"Female_Literacy_File.csv\")\n",
    "Female_Literacy_File.head()"
   ]
  }
 ],
 "metadata": {
  "kernelspec": {
   "display_name": "Python 3",
   "language": "python",
   "name": "python3"
  },
  "language_info": {
   "codemirror_mode": {
    "name": "ipython",
    "version": 3
   },
   "file_extension": ".py",
   "mimetype": "text/x-python",
   "name": "python",
   "nbconvert_exporter": "python",
   "pygments_lexer": "ipython3",
   "version": "3.6.0"
  }
 },
 "nbformat": 4,
 "nbformat_minor": 2
}
